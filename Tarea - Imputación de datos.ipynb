{
 "cells": [
  {
   "cell_type": "markdown",
   "metadata": {},
   "source": [
    "# Tarea : Imputación de datos"
   ]
  },
  {
   "cell_type": "markdown",
   "metadata": {},
   "source": [
    "* Alberto Ramos Sánchez\n",
    "* Entrega: 21/10/2020\n",
    "* Asignatura : Ciencia de Datos\n",
    "* Máster Universitario de Sistemas Inteligentes y Aplicaciones Numéricas en Ingeniería"
   ]
  },
  {
   "cell_type": "markdown",
   "metadata": {},
   "source": [
    "# Contenido\n",
    "\n",
    "* [Tarea : Imputación de datos](#Tarea-:-Imputación-de-datos)\n",
    "\t* [Introducción](#Introducción)\n",
    "\t* [*Importación de módulos*](#*Importación-de-módulos*)\n",
    "\t* [Carga del dataset](#Carga-del-dataset)\n",
    "\t* [Descripción del dataset](#Descripción-del-dataset)\n",
    "\t* [Implementación de los métodos de imputación](#Implementación-de-los-métodos-de-imputación)\n",
    "\t\t* [Método de imputación múltiple por ecuaciones encadenadas mediante regresión lineal](#Método-de-imputación-múltiple-por-ecuaciones-encadenadas-mediante-regresión-lineal)\n",
    "\t\t* [Método de imputación *Hot-Deck*](#Método-de-imputación-*Hot-Deck*)\n",
    "\t\t\t* [*Ilustración de ejemplo*](#*Ilustración-de-ejemplo*)\n",
    "\t\t* [Ejecución de los métodos y comparación](#Ejecución-de-los-métodos-y-comparación)\n",
    "\t\t\t* [Comparación de métodos mediante error cuadrático medio](#Comparación-de-métodos-mediante-error-cuadrático-medio)\n",
    "\t\t\t\t* [MICE](#MICE)\n",
    "\t\t\t\t* [Hot-Deck](#Hot-Deck)\n",
    "\t* [Conclusión](#Conclusión)\n"
   ]
  },
  {
   "cell_type": "markdown",
   "metadata": {},
   "source": [
    "## Introducción"
   ]
  },
  {
   "cell_type": "markdown",
   "metadata": {},
   "source": [
    "En este *notebook* se implementarán dos métodos de imputación de datos: imputación múltiple por ecuaciones encadenadas mediante regresión lineal e imputación *Hot-Deck*\n",
    "\n",
    "Para aplicar estos métodos, se utilizará un *dataset* llamado *white wine quality*, el cual ha sido modificado para provocar que tenga valores perdidos en todas sus variables."
   ]
  },
  {
   "cell_type": "markdown",
   "metadata": {},
   "source": [
    "## *Importación de módulos*"
   ]
  },
  {
   "cell_type": "code",
   "execution_count": 1,
   "metadata": {},
   "outputs": [],
   "source": [
    "import pandas as pd\n",
    "import numpy as np\n",
    "import random\n",
    "from sklearn import linear_model, metrics\n",
    "import pandas_profiling\n",
    "\n",
    "%matplotlib inline\n",
    "import matplotlib.pyplot as plt\n",
    "\n",
    "from tqdm.notebook import trange, tqdm\n",
    "import ipywidgets as wg\n",
    "from IPython.display import Image"
   ]
  },
  {
   "cell_type": "markdown",
   "metadata": {},
   "source": [
    "## Carga del dataset"
   ]
  },
  {
   "cell_type": "code",
   "execution_count": 2,
   "metadata": {},
   "outputs": [],
   "source": [
    "missing_ds = pd.read_csv('datos\\\\winequality-white-missing.csv', sep=';', dtype={'quality':object})\n",
    "original_ds = pd.read_csv('datos\\\\winequality-white.csv', sep=';', dtype={'quality':object})"
   ]
  },
  {
   "cell_type": "markdown",
   "metadata": {},
   "source": [
    "## Descripción del dataset"
   ]
  },
  {
   "cell_type": "markdown",
   "metadata": {},
   "source": [
    "Este dataset (extraído de <a id=\"ref-1\" href=\"#cite-CorCer09\">Cortez et al., 2009</a>) contiene la descripción de distintas muestras de la variedad de vino *vinho verde*, un vino blanco de Minho, región al noroeste de Portugal."
   ]
  },
  {
   "cell_type": "code",
   "execution_count": 3,
   "metadata": {},
   "outputs": [
    {
     "name": "stdout",
     "output_type": "stream",
     "text": [
      "<class 'pandas.core.frame.DataFrame'>\n",
      "RangeIndex: 4898 entries, 0 to 4897\n",
      "Data columns (total 12 columns):\n",
      " #   Column                Non-Null Count  Dtype  \n",
      "---  ------                --------------  -----  \n",
      " 0   fixed acidity         4898 non-null   float64\n",
      " 1   volatile acidity      4898 non-null   float64\n",
      " 2   citric acid           4898 non-null   float64\n",
      " 3   residual sugar        4898 non-null   float64\n",
      " 4   chlorides             4898 non-null   float64\n",
      " 5   free sulfur dioxide   4898 non-null   float64\n",
      " 6   total sulfur dioxide  4898 non-null   float64\n",
      " 7   density               4898 non-null   float64\n",
      " 8   pH                    4898 non-null   float64\n",
      " 9   sulphates             4898 non-null   float64\n",
      " 10  alcohol               4898 non-null   float64\n",
      " 11  quality               4898 non-null   object \n",
      "dtypes: float64(11), object(1)\n",
      "memory usage: 459.3+ KB\n"
     ]
    }
   ],
   "source": [
    "original_ds.info()"
   ]
  },
  {
   "cell_type": "markdown",
   "metadata": {},
   "source": [
    "El dataset contiene 4898 muestras y 12 columnas, 11 de ellas numéricas y una categórica. Las columnas son las siguientes <a id=\"ref-2\" href=\"#cite-DarAl\">Alekseeva</a>:\n",
    "- __Fixed Acidity (ácidos fijos):__ también conocidos como ácidos no volátiles.\n",
    "- __Volatile Acidity (ácidos volátiles):__ cantidad de ácido acético que da el sabor avinagrado.\n",
    "- __Citric Acid (Ácido cítrico):__ aporta \"frescura\" y sabor\n",
    "- __Residual sugar (Azúcares residuales):__ azúcares sobrantes del proceso de fermentación del vino.\n",
    "- __Chlorides (cloruros):__ sal.\n",
    "- __Free sulfur dioxide (dióxido de azufre libre):__ dióxido de azufre que actúa como antioxidante.\n",
    "- __Total sulfur dioxide (dióxido de azufre total):__ total de dióxido de azufre disuelto y libre en la muestra de vino.\n",
    "- __Density (densidad):__ valores de densidad cercanos al del agua según la cantidad de alcohol y azúcar.\n",
    "- __pH:__ ácidez o basicidad del vino en una escala entre 0 y 14\n",
    "- __Sulphates (sulfato de potasio):__ aditivo que actúa como antioxidante. Puede influir en la cantidad de dióxido de azufre.\n",
    "- __Alcohol:__ porcentaje de alcohol en el vino.\n",
    "- __Quality:__ calidad del vino entre 0 - 10, basado en componentes subjetivos.\n",
    "\n",
    "Dentro del dataset de datos perdidos podemos ver que los datos faltantes son de las columnas numéricas (las once primeras):"
   ]
  },
  {
   "cell_type": "code",
   "execution_count": 4,
   "metadata": {},
   "outputs": [
    {
     "name": "stdout",
     "output_type": "stream",
     "text": [
      "<class 'pandas.core.frame.DataFrame'>\n",
      "RangeIndex: 4898 entries, 0 to 4897\n",
      "Data columns (total 12 columns):\n",
      " #   Column                Non-Null Count  Dtype  \n",
      "---  ------                --------------  -----  \n",
      " 0   fixed acidity         4400 non-null   float64\n",
      " 1   volatile acidity      4431 non-null   float64\n",
      " 2   citric acid           4411 non-null   float64\n",
      " 3   residual sugar        4434 non-null   float64\n",
      " 4   chlorides             4387 non-null   float64\n",
      " 5   free sulfur dioxide   4398 non-null   float64\n",
      " 6   total sulfur dioxide  4429 non-null   float64\n",
      " 7   density               4413 non-null   float64\n",
      " 8   pH                    4415 non-null   float64\n",
      " 9   sulphates             4372 non-null   float64\n",
      " 10  alcohol               4412 non-null   float64\n",
      " 11  quality               4898 non-null   object \n",
      "dtypes: float64(11), object(1)\n",
      "memory usage: 459.3+ KB\n"
     ]
    }
   ],
   "source": [
    "missing_ds.info()"
   ]
  },
  {
   "cell_type": "markdown",
   "metadata": {},
   "source": [
    "Utilizando la herramienta *pandas_profiling* podemos descubrir que hay un 9.1% de datos faltantes. Por cada columna son:\n",
    "- __Fixed Acidity (ácidos fijos):__ 498 filas.\n",
    "- __Volatile Acidity (ácidos volátiles):__ 467 filas.\n",
    "- __Citric Acid (Ácido cítrico):__ 487 filas.\n",
    "- __Residual sugar (Azúcares residuales):__ 464 filas.\n",
    "- __Chlorides (cloruros):__ 511 filas.\n",
    "- __Free sulfur dioxide (dióxido de azufre libre):__ 500 filas.\n",
    "- __Total sulfur dioxide (dióxido de azufre total):__ 469 filas.\n",
    "- __Density (densidad):__ 485 filas.\n",
    "- __pH:__ 483 filas.\n",
    "- __Sulphates (sulfatos):__ 526 filas.\n",
    "- __Alcohol:__ 486 filas.\n",
    "- __Quality :__ 0 filas."
   ]
  },
  {
   "cell_type": "code",
   "execution_count": 5,
   "metadata": {},
   "outputs": [
    {
     "data": {
      "application/vnd.jupyter.widget-view+json": {
       "model_id": "d073dc9eab2847348c608ea0caeaf5b4",
       "version_major": 2,
       "version_minor": 0
      },
      "text/plain": [
       "HBox(children=(HTML(value='Summarize dataset'), FloatProgress(value=0.0, max=26.0), HTML(value='')))"
      ]
     },
     "metadata": {},
     "output_type": "display_data"
    },
    {
     "name": "stdout",
     "output_type": "stream",
     "text": [
      "\n"
     ]
    },
    {
     "data": {
      "application/vnd.jupyter.widget-view+json": {
       "model_id": "43a1647eb1724d84b02bec2cf662791b",
       "version_major": 2,
       "version_minor": 0
      },
      "text/plain": [
       "HBox(children=(HTML(value='Generate report structure'), FloatProgress(value=0.0, max=1.0), HTML(value='')))"
      ]
     },
     "metadata": {},
     "output_type": "display_data"
    },
    {
     "name": "stdout",
     "output_type": "stream",
     "text": [
      "\n"
     ]
    },
    {
     "data": {
      "application/vnd.jupyter.widget-view+json": {
       "model_id": "4ad9e013a7ea4057a6774244a1afef7c",
       "version_major": 2,
       "version_minor": 0
      },
      "text/plain": [
       "HBox(children=(HTML(value='Render HTML'), FloatProgress(value=0.0, max=1.0), HTML(value='')))"
      ]
     },
     "metadata": {},
     "output_type": "display_data"
    },
    {
     "name": "stdout",
     "output_type": "stream",
     "text": [
      "\n"
     ]
    },
    {
     "data": {
      "application/vnd.jupyter.widget-view+json": {
       "model_id": "d400c7be2eed4e5eba9f7a546c076d94",
       "version_major": 2,
       "version_minor": 0
      },
      "text/plain": [
       "HBox(children=(HTML(value='Export report to file'), FloatProgress(value=0.0, max=1.0), HTML(value='')))"
      ]
     },
     "metadata": {},
     "output_type": "display_data"
    },
    {
     "name": "stdout",
     "output_type": "stream",
     "text": [
      "\n"
     ]
    }
   ],
   "source": [
    "informe = pandas_profiling.ProfileReport(missing_ds)\n",
    "informe.to_file('informe.html')"
   ]
  },
  {
   "cell_type": "code",
   "execution_count": 5,
   "metadata": {},
   "outputs": [
    {
     "data": {
      "text/html": [
       "<div>\n",
       "<style scoped>\n",
       "    .dataframe tbody tr th:only-of-type {\n",
       "        vertical-align: middle;\n",
       "    }\n",
       "\n",
       "    .dataframe tbody tr th {\n",
       "        vertical-align: top;\n",
       "    }\n",
       "\n",
       "    .dataframe thead th {\n",
       "        text-align: right;\n",
       "    }\n",
       "</style>\n",
       "<table border=\"1\" class=\"dataframe\">\n",
       "  <thead>\n",
       "    <tr style=\"text-align: right;\">\n",
       "      <th></th>\n",
       "      <th>fixed acidity</th>\n",
       "      <th>volatile acidity</th>\n",
       "      <th>citric acid</th>\n",
       "      <th>residual sugar</th>\n",
       "      <th>chlorides</th>\n",
       "      <th>free sulfur dioxide</th>\n",
       "      <th>total sulfur dioxide</th>\n",
       "      <th>density</th>\n",
       "      <th>pH</th>\n",
       "      <th>sulphates</th>\n",
       "      <th>alcohol</th>\n",
       "    </tr>\n",
       "  </thead>\n",
       "  <tbody>\n",
       "    <tr>\n",
       "      <th>count</th>\n",
       "      <td>4400.000000</td>\n",
       "      <td>4431.000000</td>\n",
       "      <td>4411.000000</td>\n",
       "      <td>4434.000000</td>\n",
       "      <td>4387.000000</td>\n",
       "      <td>4398.000000</td>\n",
       "      <td>4429.000000</td>\n",
       "      <td>4413.000000</td>\n",
       "      <td>4415.000000</td>\n",
       "      <td>4372.000000</td>\n",
       "      <td>4412.000000</td>\n",
       "    </tr>\n",
       "    <tr>\n",
       "      <th>mean</th>\n",
       "      <td>6.849080</td>\n",
       "      <td>0.277857</td>\n",
       "      <td>0.334670</td>\n",
       "      <td>6.393223</td>\n",
       "      <td>0.046018</td>\n",
       "      <td>35.394839</td>\n",
       "      <td>137.756266</td>\n",
       "      <td>0.994038</td>\n",
       "      <td>3.188061</td>\n",
       "      <td>0.489879</td>\n",
       "      <td>10.518351</td>\n",
       "    </tr>\n",
       "    <tr>\n",
       "      <th>std</th>\n",
       "      <td>0.835875</td>\n",
       "      <td>0.100151</td>\n",
       "      <td>0.122274</td>\n",
       "      <td>5.086485</td>\n",
       "      <td>0.022396</td>\n",
       "      <td>17.092922</td>\n",
       "      <td>42.078770</td>\n",
       "      <td>0.003014</td>\n",
       "      <td>0.151680</td>\n",
       "      <td>0.114343</td>\n",
       "      <td>1.234730</td>\n",
       "    </tr>\n",
       "    <tr>\n",
       "      <th>min</th>\n",
       "      <td>3.800000</td>\n",
       "      <td>0.080000</td>\n",
       "      <td>0.000000</td>\n",
       "      <td>0.600000</td>\n",
       "      <td>0.009000</td>\n",
       "      <td>2.000000</td>\n",
       "      <td>9.000000</td>\n",
       "      <td>0.987110</td>\n",
       "      <td>2.740000</td>\n",
       "      <td>0.220000</td>\n",
       "      <td>8.000000</td>\n",
       "    </tr>\n",
       "    <tr>\n",
       "      <th>25%</th>\n",
       "      <td>6.300000</td>\n",
       "      <td>0.210000</td>\n",
       "      <td>0.270000</td>\n",
       "      <td>1.700000</td>\n",
       "      <td>0.036000</td>\n",
       "      <td>23.000000</td>\n",
       "      <td>108.000000</td>\n",
       "      <td>0.991740</td>\n",
       "      <td>3.080000</td>\n",
       "      <td>0.410000</td>\n",
       "      <td>9.500000</td>\n",
       "    </tr>\n",
       "    <tr>\n",
       "      <th>50%</th>\n",
       "      <td>6.800000</td>\n",
       "      <td>0.260000</td>\n",
       "      <td>0.320000</td>\n",
       "      <td>5.200000</td>\n",
       "      <td>0.043000</td>\n",
       "      <td>34.000000</td>\n",
       "      <td>134.000000</td>\n",
       "      <td>0.993800</td>\n",
       "      <td>3.180000</td>\n",
       "      <td>0.470000</td>\n",
       "      <td>10.400000</td>\n",
       "    </tr>\n",
       "    <tr>\n",
       "      <th>75%</th>\n",
       "      <td>7.300000</td>\n",
       "      <td>0.320000</td>\n",
       "      <td>0.390000</td>\n",
       "      <td>9.850000</td>\n",
       "      <td>0.050000</td>\n",
       "      <td>46.000000</td>\n",
       "      <td>166.000000</td>\n",
       "      <td>0.996120</td>\n",
       "      <td>3.280000</td>\n",
       "      <td>0.550000</td>\n",
       "      <td>11.400000</td>\n",
       "    </tr>\n",
       "    <tr>\n",
       "      <th>max</th>\n",
       "      <td>11.800000</td>\n",
       "      <td>1.100000</td>\n",
       "      <td>1.660000</td>\n",
       "      <td>65.800000</td>\n",
       "      <td>0.346000</td>\n",
       "      <td>289.000000</td>\n",
       "      <td>440.000000</td>\n",
       "      <td>1.038980</td>\n",
       "      <td>3.820000</td>\n",
       "      <td>1.080000</td>\n",
       "      <td>14.200000</td>\n",
       "    </tr>\n",
       "  </tbody>\n",
       "</table>\n",
       "</div>"
      ],
      "text/plain": [
       "       fixed acidity  volatile acidity  citric acid  residual sugar  \\\n",
       "count    4400.000000       4431.000000  4411.000000     4434.000000   \n",
       "mean        6.849080          0.277857     0.334670        6.393223   \n",
       "std         0.835875          0.100151     0.122274        5.086485   \n",
       "min         3.800000          0.080000     0.000000        0.600000   \n",
       "25%         6.300000          0.210000     0.270000        1.700000   \n",
       "50%         6.800000          0.260000     0.320000        5.200000   \n",
       "75%         7.300000          0.320000     0.390000        9.850000   \n",
       "max        11.800000          1.100000     1.660000       65.800000   \n",
       "\n",
       "         chlorides  free sulfur dioxide  total sulfur dioxide      density  \\\n",
       "count  4387.000000          4398.000000           4429.000000  4413.000000   \n",
       "mean      0.046018            35.394839            137.756266     0.994038   \n",
       "std       0.022396            17.092922             42.078770     0.003014   \n",
       "min       0.009000             2.000000              9.000000     0.987110   \n",
       "25%       0.036000            23.000000            108.000000     0.991740   \n",
       "50%       0.043000            34.000000            134.000000     0.993800   \n",
       "75%       0.050000            46.000000            166.000000     0.996120   \n",
       "max       0.346000           289.000000            440.000000     1.038980   \n",
       "\n",
       "                pH    sulphates      alcohol  \n",
       "count  4415.000000  4372.000000  4412.000000  \n",
       "mean      3.188061     0.489879    10.518351  \n",
       "std       0.151680     0.114343     1.234730  \n",
       "min       2.740000     0.220000     8.000000  \n",
       "25%       3.080000     0.410000     9.500000  \n",
       "50%       3.180000     0.470000    10.400000  \n",
       "75%       3.280000     0.550000    11.400000  \n",
       "max       3.820000     1.080000    14.200000  "
      ]
     },
     "execution_count": 5,
     "metadata": {},
     "output_type": "execute_result"
    }
   ],
   "source": [
    "missing_ds.describe()"
   ]
  },
  {
   "cell_type": "code",
   "execution_count": 6,
   "metadata": {},
   "outputs": [
    {
     "data": {
      "text/html": [
       "<div>\n",
       "<style scoped>\n",
       "    .dataframe tbody tr th:only-of-type {\n",
       "        vertical-align: middle;\n",
       "    }\n",
       "\n",
       "    .dataframe tbody tr th {\n",
       "        vertical-align: top;\n",
       "    }\n",
       "\n",
       "    .dataframe thead th {\n",
       "        text-align: right;\n",
       "    }\n",
       "</style>\n",
       "<table border=\"1\" class=\"dataframe\">\n",
       "  <thead>\n",
       "    <tr style=\"text-align: right;\">\n",
       "      <th></th>\n",
       "      <th>fixed acidity</th>\n",
       "      <th>volatile acidity</th>\n",
       "      <th>citric acid</th>\n",
       "      <th>residual sugar</th>\n",
       "      <th>chlorides</th>\n",
       "      <th>free sulfur dioxide</th>\n",
       "      <th>total sulfur dioxide</th>\n",
       "      <th>density</th>\n",
       "      <th>pH</th>\n",
       "      <th>sulphates</th>\n",
       "      <th>alcohol</th>\n",
       "    </tr>\n",
       "  </thead>\n",
       "  <tbody>\n",
       "    <tr>\n",
       "      <th>count</th>\n",
       "      <td>4898.000000</td>\n",
       "      <td>4898.000000</td>\n",
       "      <td>4898.000000</td>\n",
       "      <td>4898.000000</td>\n",
       "      <td>4898.000000</td>\n",
       "      <td>4898.000000</td>\n",
       "      <td>4898.000000</td>\n",
       "      <td>4898.000000</td>\n",
       "      <td>4898.000000</td>\n",
       "      <td>4898.000000</td>\n",
       "      <td>4898.000000</td>\n",
       "    </tr>\n",
       "    <tr>\n",
       "      <th>mean</th>\n",
       "      <td>6.854788</td>\n",
       "      <td>0.278241</td>\n",
       "      <td>0.334192</td>\n",
       "      <td>6.391415</td>\n",
       "      <td>0.045772</td>\n",
       "      <td>35.308085</td>\n",
       "      <td>138.360657</td>\n",
       "      <td>0.994027</td>\n",
       "      <td>3.188267</td>\n",
       "      <td>0.489847</td>\n",
       "      <td>10.514267</td>\n",
       "    </tr>\n",
       "    <tr>\n",
       "      <th>std</th>\n",
       "      <td>0.843868</td>\n",
       "      <td>0.100795</td>\n",
       "      <td>0.121020</td>\n",
       "      <td>5.072058</td>\n",
       "      <td>0.021848</td>\n",
       "      <td>17.007137</td>\n",
       "      <td>42.498065</td>\n",
       "      <td>0.002991</td>\n",
       "      <td>0.151001</td>\n",
       "      <td>0.114126</td>\n",
       "      <td>1.230621</td>\n",
       "    </tr>\n",
       "    <tr>\n",
       "      <th>min</th>\n",
       "      <td>3.800000</td>\n",
       "      <td>0.080000</td>\n",
       "      <td>0.000000</td>\n",
       "      <td>0.600000</td>\n",
       "      <td>0.009000</td>\n",
       "      <td>2.000000</td>\n",
       "      <td>9.000000</td>\n",
       "      <td>0.987110</td>\n",
       "      <td>2.720000</td>\n",
       "      <td>0.220000</td>\n",
       "      <td>8.000000</td>\n",
       "    </tr>\n",
       "    <tr>\n",
       "      <th>25%</th>\n",
       "      <td>6.300000</td>\n",
       "      <td>0.210000</td>\n",
       "      <td>0.270000</td>\n",
       "      <td>1.700000</td>\n",
       "      <td>0.036000</td>\n",
       "      <td>23.000000</td>\n",
       "      <td>108.000000</td>\n",
       "      <td>0.991723</td>\n",
       "      <td>3.090000</td>\n",
       "      <td>0.410000</td>\n",
       "      <td>9.500000</td>\n",
       "    </tr>\n",
       "    <tr>\n",
       "      <th>50%</th>\n",
       "      <td>6.800000</td>\n",
       "      <td>0.260000</td>\n",
       "      <td>0.320000</td>\n",
       "      <td>5.200000</td>\n",
       "      <td>0.043000</td>\n",
       "      <td>34.000000</td>\n",
       "      <td>134.000000</td>\n",
       "      <td>0.993740</td>\n",
       "      <td>3.180000</td>\n",
       "      <td>0.470000</td>\n",
       "      <td>10.400000</td>\n",
       "    </tr>\n",
       "    <tr>\n",
       "      <th>75%</th>\n",
       "      <td>7.300000</td>\n",
       "      <td>0.320000</td>\n",
       "      <td>0.390000</td>\n",
       "      <td>9.900000</td>\n",
       "      <td>0.050000</td>\n",
       "      <td>46.000000</td>\n",
       "      <td>167.000000</td>\n",
       "      <td>0.996100</td>\n",
       "      <td>3.280000</td>\n",
       "      <td>0.550000</td>\n",
       "      <td>11.400000</td>\n",
       "    </tr>\n",
       "    <tr>\n",
       "      <th>max</th>\n",
       "      <td>14.200000</td>\n",
       "      <td>1.100000</td>\n",
       "      <td>1.660000</td>\n",
       "      <td>65.800000</td>\n",
       "      <td>0.346000</td>\n",
       "      <td>289.000000</td>\n",
       "      <td>440.000000</td>\n",
       "      <td>1.038980</td>\n",
       "      <td>3.820000</td>\n",
       "      <td>1.080000</td>\n",
       "      <td>14.200000</td>\n",
       "    </tr>\n",
       "  </tbody>\n",
       "</table>\n",
       "</div>"
      ],
      "text/plain": [
       "       fixed acidity  volatile acidity  citric acid  residual sugar  \\\n",
       "count    4898.000000       4898.000000  4898.000000     4898.000000   \n",
       "mean        6.854788          0.278241     0.334192        6.391415   \n",
       "std         0.843868          0.100795     0.121020        5.072058   \n",
       "min         3.800000          0.080000     0.000000        0.600000   \n",
       "25%         6.300000          0.210000     0.270000        1.700000   \n",
       "50%         6.800000          0.260000     0.320000        5.200000   \n",
       "75%         7.300000          0.320000     0.390000        9.900000   \n",
       "max        14.200000          1.100000     1.660000       65.800000   \n",
       "\n",
       "         chlorides  free sulfur dioxide  total sulfur dioxide      density  \\\n",
       "count  4898.000000          4898.000000           4898.000000  4898.000000   \n",
       "mean      0.045772            35.308085            138.360657     0.994027   \n",
       "std       0.021848            17.007137             42.498065     0.002991   \n",
       "min       0.009000             2.000000              9.000000     0.987110   \n",
       "25%       0.036000            23.000000            108.000000     0.991723   \n",
       "50%       0.043000            34.000000            134.000000     0.993740   \n",
       "75%       0.050000            46.000000            167.000000     0.996100   \n",
       "max       0.346000           289.000000            440.000000     1.038980   \n",
       "\n",
       "                pH    sulphates      alcohol  \n",
       "count  4898.000000  4898.000000  4898.000000  \n",
       "mean      3.188267     0.489847    10.514267  \n",
       "std       0.151001     0.114126     1.230621  \n",
       "min       2.720000     0.220000     8.000000  \n",
       "25%       3.090000     0.410000     9.500000  \n",
       "50%       3.180000     0.470000    10.400000  \n",
       "75%       3.280000     0.550000    11.400000  \n",
       "max       3.820000     1.080000    14.200000  "
      ]
     },
     "execution_count": 6,
     "metadata": {},
     "output_type": "execute_result"
    }
   ],
   "source": [
    "original_ds.describe()"
   ]
  },
  {
   "cell_type": "markdown",
   "metadata": {},
   "source": [
    "## Implementación de los métodos de imputación"
   ]
  },
  {
   "cell_type": "markdown",
   "metadata": {},
   "source": [
    "### Método de imputación múltiple por ecuaciones encadenadas mediante regresión lineal"
   ]
  },
  {
   "cell_type": "markdown",
   "metadata": {},
   "source": [
    "Este método logra la imputación de datos combinando la imputación simple mediante algún valor estadístico (media, mediana, ...) con la imputación mediante regresión. Al aplicar este método asumimos que los datos fueron perdidos de forma aleatoria.\n",
    "\n",
    "El algoritmo de este método consiste en:\n",
    " 1. Realizar una imputación simple de las variables perdidas utilizando media, mediana, etc.\n",
    " 2. Seleccionar una variable $x_i$ con valores perdidos y volver a cambiar los valores imputados por los perdidos.\n",
    " 3. Realizar regresión usando como variable de respuesta $x_i$ y como variables predictoras el resto $x_{i\\not=j}$\n",
    " 4. Los valores perdidos en $x_{i}$ se sustituyen por las estimaciones obtenidas en el paso 3.\n",
    " 5. Repetimos los pasos 2,3 y 4 por cada variable con valores perdidos un número de ciclos determinado.\n",
    " \n",
    "La implementación de este método de imputación se realiza en el método *mice*.\n",
    "\n",
    "Esta imputación solo puede aplicarse a valores numéricos, por lo que en (1) seleccionamos el nombre de las columnas cuyo tipo de dato son números (todas menos *quality*). Posteriormente —en (2)—, reservamos la posición en la que se encuentran los valores perdidos para, seguidamente, —en (3)— sustituirlos por la mediana.\n",
    "\n",
    "Finalmente, aplicamos sustitución por regresión lineal a cada una de las columnas, utilizando como entrada las demás columnas (solamente seleccionamos las numéricas) y como salida la columna a la que queremos imputar los valores. Este procedimiento se realiza columna a columna, un número determinado de épocas —en (4)—."
   ]
  },
  {
   "cell_type": "code",
   "execution_count": 7,
   "metadata": {},
   "outputs": [],
   "source": [
    "def mice(df, epochs):\n",
    "    \n",
    "    # (1) obtenemos nombre de columnas numéricas, que son a las que se le aplica MICE \n",
    "    cols = df._get_numeric_data().columns\n",
    "    \n",
    "    # (2) reservamos posición de valores nulos\n",
    "    missing_loc = df.isnull()\n",
    "    \n",
    "    # (3) Imputamos valores de la mediana en todas las columnas\n",
    "    for c in cols:\n",
    "        missing_pos = missing_loc[c]\n",
    "        \n",
    "        median_val = df.loc[~missing_pos, c].median()\n",
    "        \n",
    "        df.loc[missing_pos, c] = median_val        \n",
    "    \n",
    "    # (4) aplicamos sustitución por regresion lineal a cada columna un número de épocas\n",
    "    # trange muestra barra de progreso en consola\n",
    "    for _ in trange(epochs, desc=\"Progress\", unit=\"epoch\"):\n",
    "        \n",
    "        for c in cols:\n",
    "            \n",
    "            missing_pos = missing_loc[c]\n",
    "            \n",
    "            X_missing = df._get_numeric_data().loc[missing_pos].drop(c, axis=1) \\\n",
    "                                           .values\n",
    "            X = df._get_numeric_data().loc[~missing_pos].drop(c, axis=1) \\\n",
    "                                    .values\n",
    "            y = df._get_numeric_data().loc[~missing_pos, c].values\n",
    "            \n",
    "            # (5) Regresion lineal\n",
    "            \n",
    "            regression_model = linear_model.LinearRegression()\n",
    "            regression_model.fit(X, y)\n",
    "            \n",
    "            column_pred = regression_model.predict(X_missing)\n",
    "            \n",
    "            df.loc[missing_pos, c] = column_pred\n"
   ]
  },
  {
   "cell_type": "markdown",
   "metadata": {},
   "source": [
    "### Método de imputación *Hot-Deck*"
   ]
  },
  {
   "cell_type": "markdown",
   "metadata": {},
   "source": [
    "Este método logra la imputación de valores perdidos sustituyéndolos por el valor que posee la muestra más cercana según los demás atributos. Este método se diferencia del anterior en que no es necesario estimar valores.\n",
    "\n",
    "La implementación de este método se encuentra en el método *hot-deck*.\n",
    "\n",
    "Este método de imputación es aplicado únicamente a los valores numéricos, por lo que recorremos columna a columna entre las numéricas —en (3)— buscándo para cada fila con dato perdido el valor de la fila que tiene los valores de las demás columnas más cercana. \n",
    "\n",
    "Es posible que en una misma fila existan varias columnas con valores perdidos. Por lo tanto, para realizar la búsqueda del valor más cercano, primeramente, seleccionamos las columnas que no son nulas en la fila a la que vamos a imputar. Posteriormente, seleccionamos entre las filas que no tienen datos perdidos para la columna en la que vamos a imputar aquellas que tengan todos los valores no nulos de las columnas seleccionadas anteriormente. De este modo, nos aseguramos que las medidas de distancias no se realicen con valores nulos. (Código en (7), (8), y (9))\n",
    "\n",
    "Finalmente, calculamos la distancia entre los valores de la fila en que vamos a imputar y las que si tienen valores, seleccionando la más cercana, e imputando el valor."
   ]
  },
  {
   "cell_type": "markdown",
   "metadata": {},
   "source": [
    "#### *Ilustración de ejemplo*"
   ]
  },
  {
   "cell_type": "code",
   "execution_count": 8,
   "metadata": {},
   "outputs": [
    {
     "name": "stdout",
     "output_type": "stream",
     "text": [
      "Pasar diapositiva: "
     ]
    },
    {
     "data": {
      "application/vnd.jupyter.widget-view+json": {
       "model_id": "68c53fc71aa243b18225f907642b24ff",
       "version_major": 2,
       "version_minor": 0
      },
      "text/plain": [
       "interactive(children=(IntSlider(value=1, description='x', max=5, min=1), Output()), _dom_classes=('widget-inte…"
      ]
     },
     "metadata": {},
     "output_type": "display_data"
    }
   ],
   "source": [
    "def image(x):\n",
    "    return Image(filename='./images/ejemplo_hotdeck/i{}.png'.format(x))\n",
    "\n",
    "print(\"Pasar diapositiva: \", end=\"\")\n",
    "wg.interact(image, x=wg.IntSlider(min=1,max=5,step=1));\n",
    "\n"
   ]
  },
  {
   "cell_type": "code",
   "execution_count": 9,
   "metadata": {},
   "outputs": [],
   "source": [
    "def hot_deck(df):\n",
    "    \n",
    "    # (1) columnas numéricas\n",
    "    cols = df._get_numeric_data().columns\n",
    "    \n",
    "    # (2) posiciones perdidas\n",
    "    missing_loc = df.isnull()\n",
    "    \n",
    "    # (3) recorremos columnas numéricas\n",
    "    for c in tqdm(cols, desc=\"Progress\"):\n",
    "        \n",
    "        # (4) filas con datos perdidos : a las que se le imputará datos\n",
    "        missing_data = df.loc[missing_loc[c]]._get_numeric_data()\n",
    "        # (5) filas con datos no perdidos : donde se buscara el más cercano\n",
    "        no_missing_data = df.loc[(~missing_loc)[c]]._get_numeric_data()\n",
    "        \n",
    "        # (6) Recorremos fila a fila\n",
    "        for index, row in missing_data.iterrows():\n",
    "            \"\"\"\n",
    "            index == nº fila a imputar\n",
    "            row == valores de la fila a imputar\n",
    "            \"\"\"\n",
    "            \n",
    "            # (7) seleccionamos las columnas sin valores no nulos\n",
    "            # search info contiene los valores utilizados para encontrar la fila más cercana\n",
    "            search_info = row[row.notnull()]\n",
    "            search_cols = search_info.index\n",
    "            \n",
    "            # (8) seleccionamos las filas no nulas con valores no nulos en las columnas que indica search_cols\n",
    "            search_rows = no_missing_data.loc[:, search_cols].notnull()\n",
    "            search_rows = search_rows[search_rows == True].dropna().index\n",
    "            \n",
    "            # (9) datos donde se buscara el más cercano\n",
    "            search_data = no_missing_data.loc[search_rows, search_cols]\n",
    "            \n",
    "            # (10) buscamos el más cercano según distancia euclídea sin raíz cuadrada\n",
    "            dist = ((search_data - search_info)**2).sum(axis=1)\n",
    "            smallest_dist_index = dist.index[dist.values.argmin()]\n",
    "            imputation_value = df.loc[smallest_dist_index, c]\n",
    "            \n",
    "            # (11) imputamos el valor\n",
    "            df.loc[index, c] = imputation_value\n",
    "    "
   ]
  },
  {
   "cell_type": "markdown",
   "metadata": {},
   "source": [
    "### Ejecución de los métodos y comparación"
   ]
  },
  {
   "cell_type": "markdown",
   "metadata": {},
   "source": [
    "A continuación ejecutamos los dos métodos propuestos. La comparación de su eficacia se realizará mediante el cálculo del error medio cuadrático con los datos originales (sin valores perdidos)."
   ]
  },
  {
   "cell_type": "code",
   "execution_count": 10,
   "metadata": {},
   "outputs": [
    {
     "data": {
      "application/vnd.jupyter.widget-view+json": {
       "model_id": "06c8b2a7530248b49f492aeabb9b6ab6",
       "version_major": 2,
       "version_minor": 0
      },
      "text/plain": [
       "HBox(children=(HTML(value='Progress'), FloatProgress(value=0.0), HTML(value='')))"
      ]
     },
     "metadata": {},
     "output_type": "display_data"
    },
    {
     "name": "stdout",
     "output_type": "stream",
     "text": [
      "\n"
     ]
    }
   ],
   "source": [
    "mice_result = missing_ds.copy()\n",
    "mice(mice_result, 100)"
   ]
  },
  {
   "cell_type": "code",
   "execution_count": 11,
   "metadata": {},
   "outputs": [
    {
     "name": "stdout",
     "output_type": "stream",
     "text": [
      "<class 'pandas.core.frame.DataFrame'>\n",
      "RangeIndex: 4898 entries, 0 to 4897\n",
      "Data columns (total 12 columns):\n",
      " #   Column                Non-Null Count  Dtype  \n",
      "---  ------                --------------  -----  \n",
      " 0   fixed acidity         4898 non-null   float64\n",
      " 1   volatile acidity      4898 non-null   float64\n",
      " 2   citric acid           4898 non-null   float64\n",
      " 3   residual sugar        4898 non-null   float64\n",
      " 4   chlorides             4898 non-null   float64\n",
      " 5   free sulfur dioxide   4898 non-null   float64\n",
      " 6   total sulfur dioxide  4898 non-null   float64\n",
      " 7   density               4898 non-null   float64\n",
      " 8   pH                    4898 non-null   float64\n",
      " 9   sulphates             4898 non-null   float64\n",
      " 10  alcohol               4898 non-null   float64\n",
      " 11  quality               4898 non-null   object \n",
      "dtypes: float64(11), object(1)\n",
      "memory usage: 459.3+ KB\n"
     ]
    }
   ],
   "source": [
    "mice_result.info()"
   ]
  },
  {
   "cell_type": "code",
   "execution_count": 12,
   "metadata": {},
   "outputs": [
    {
     "data": {
      "application/vnd.jupyter.widget-view+json": {
       "model_id": "091a5b1a888946068b46ebffd443fe96",
       "version_major": 2,
       "version_minor": 0
      },
      "text/plain": [
       "HBox(children=(HTML(value='Progress'), FloatProgress(value=0.0, max=11.0), HTML(value='')))"
      ]
     },
     "metadata": {},
     "output_type": "display_data"
    },
    {
     "name": "stdout",
     "output_type": "stream",
     "text": [
      "\n"
     ]
    }
   ],
   "source": [
    "hotdeck_result = missing_ds.copy()\n",
    "hot_deck(hotdeck_result)"
   ]
  },
  {
   "cell_type": "code",
   "execution_count": 13,
   "metadata": {},
   "outputs": [
    {
     "name": "stdout",
     "output_type": "stream",
     "text": [
      "<class 'pandas.core.frame.DataFrame'>\n",
      "RangeIndex: 4898 entries, 0 to 4897\n",
      "Data columns (total 12 columns):\n",
      " #   Column                Non-Null Count  Dtype  \n",
      "---  ------                --------------  -----  \n",
      " 0   fixed acidity         4898 non-null   float64\n",
      " 1   volatile acidity      4898 non-null   float64\n",
      " 2   citric acid           4898 non-null   float64\n",
      " 3   residual sugar        4898 non-null   float64\n",
      " 4   chlorides             4898 non-null   float64\n",
      " 5   free sulfur dioxide   4898 non-null   float64\n",
      " 6   total sulfur dioxide  4898 non-null   float64\n",
      " 7   density               4898 non-null   float64\n",
      " 8   pH                    4898 non-null   float64\n",
      " 9   sulphates             4898 non-null   float64\n",
      " 10  alcohol               4898 non-null   float64\n",
      " 11  quality               4898 non-null   object \n",
      "dtypes: float64(11), object(1)\n",
      "memory usage: 459.3+ KB\n"
     ]
    }
   ],
   "source": [
    "hotdeck_result.info()"
   ]
  },
  {
   "cell_type": "markdown",
   "metadata": {},
   "source": [
    "#### Comparación de métodos mediante error cuadrático medio"
   ]
  },
  {
   "cell_type": "markdown",
   "metadata": {},
   "source": [
    "##### MICE"
   ]
  },
  {
   "cell_type": "markdown",
   "metadata": {},
   "source": [
    "Error global"
   ]
  },
  {
   "cell_type": "code",
   "execution_count": 14,
   "metadata": {},
   "outputs": [
    {
     "data": {
      "text/plain": [
       "9.652350161628014"
      ]
     },
     "execution_count": 14,
     "metadata": {},
     "output_type": "execute_result"
    }
   ],
   "source": [
    "msc = metrics.mean_squared_error(mice_result, original_ds)\n",
    "msc"
   ]
  },
  {
   "cell_type": "markdown",
   "metadata": {},
   "source": [
    "Error por atributos"
   ]
  },
  {
   "cell_type": "code",
   "execution_count": 15,
   "metadata": {},
   "outputs": [
    {
     "data": {
      "text/plain": [
       "<BarContainer object of 11 artists>"
      ]
     },
     "execution_count": 15,
     "metadata": {},
     "output_type": "execute_result"
    },
    {
     "data": {
      "image/png": "[encoded data removed]",
      "text/plain": [
       "<Figure size 432x288 with 1 Axes>"
      ]
     },
     "metadata": {
      "needs_background": "light"
     },
     "output_type": "display_data"
    }
   ],
   "source": [
    "errores = []\n",
    "labels = []\n",
    "for c in mice_result._get_numeric_data().columns:\n",
    "    msc = metrics.mean_squared_error(mice_result._get_numeric_data().loc[:, c], original_ds._get_numeric_data().loc[:,c])\n",
    "    errores.append(msc)\n",
    "    labels.append(c)\n",
    "\n",
    "plt.barh(labels, errores)"
   ]
  },
  {
   "cell_type": "markdown",
   "metadata": {},
   "source": [
    "##### Hot-Deck"
   ]
  },
  {
   "cell_type": "code",
   "execution_count": 16,
   "metadata": {},
   "outputs": [
    {
     "data": {
      "text/plain": [
       "13.583656830963763"
      ]
     },
     "execution_count": 16,
     "metadata": {},
     "output_type": "execute_result"
    }
   ],
   "source": [
    "msc = metrics.mean_squared_error(hotdeck_result, original_ds)\n",
    "msc"
   ]
  },
  {
   "cell_type": "code",
   "execution_count": 17,
   "metadata": {},
   "outputs": [
    {
     "data": {
      "text/plain": [
       "<BarContainer object of 11 artists>"
      ]
     },
     "execution_count": 17,
     "metadata": {},
     "output_type": "execute_result"
    },
    {
     "data": {
      "image/png": "[encoded data removed]",
      "text/plain": [
       "<Figure size 432x288 with 1 Axes>"
      ]
     },
     "metadata": {
      "needs_background": "light"
     },
     "output_type": "display_data"
    }
   ],
   "source": [
    "errores = []\n",
    "labels = []\n",
    "for c in hotdeck_result._get_numeric_data().columns:\n",
    "    msc = metrics.mean_squared_error(hotdeck_result._get_numeric_data().loc[:, c], original_ds._get_numeric_data().loc[:,c])\n",
    "    errores.append(msc)\n",
    "    labels.append(c)\n",
    "\n",
    "plt.barh(labels, errores)"
   ]
  },
  {
   "cell_type": "markdown",
   "metadata": {},
   "source": [
    "## Conclusión"
   ]
  },
  {
   "cell_type": "markdown",
   "metadata": {},
   "source": [
    "Hemos comprobado como el método *MICE* es más efectivo para imputar valores. Este resultado podríamos esperarlo porque el método MICE tiene en cuenta la relación entre las distintas muestras y atributos: a través de la imputación de la mediana se acerca cada valor perdido al valor medio de ese atributo, y a través de la regresión se estima el valor según la relación que tienen otros atributos. En cambio, *hot-deck* simplemente sustituye el valor más cercano según otros atributos, sin tener en cuenta si estos atributos afectan al que estamos imputando."
   ]
  },
  {
   "cell_type": "markdown",
   "metadata": {},
   "source": [
    "***"
   ]
  },
  {
   "attachments": {},
   "cell_type": "markdown",
   "metadata": {},
   "source": [
    "<!--bibtex\n",
    "\n",
    "    @article{CorCer09,\n",
    "            Author = {P. Cortez and A. Cerdeira and F. Almeida and T. Matos and J. Reis},\n",
    "            Journal = {Decision Support Systems},\n",
    "            Number = {4},\n",
    "            Pages = {547-553},\n",
    "            Title = {{Modeling wine preferences by data mining from physicochemical properties}},\n",
    "            Volume = {47},\n",
    "            Year = {1998},\n",
    "            Doi = {10.1016/j.dss.2009.05.016},\n",
    "            Url = {https://doi.org/10.1016/j.dss.2009.05.016}\n",
    "            \n",
    "    }\n",
    "\n",
    "    @misc {DarAl\n",
    "        Author = {Daria Alekseeva},\n",
    "        title = {Red and White Wine Quality},\n",
    "        howpublished = {\\url{https://rstudio-pubs-static.s3.amazonaws.com/57835_c4ace81da9dc45438ad0c286bcbb4224.html}},\n",
    "        note = {Accessed: 2020-13-10}\n",
    "    }\n",
    "\n",
    "-->"
   ]
  },
  {
   "cell_type": "markdown",
   "metadata": {},
   "source": [
    "***"
   ]
  },
  {
   "cell_type": "markdown",
   "metadata": {},
   "source": [
    "# References\n",
    "\n",
    "<a id=\"cite-CorCer09\"/><sup><a href=#ref-1>[^]</a></sup>P. Cortez and A. Cerdeira and F. Almeida and T. Matos and J. Reis. 1998. _Modeling wine preferences by data mining from physicochemical properties_. DOI : https://doi.org/10.1016/j.dss.2009.05.016\n",
    "\n",
    "<a id=\"cite-DarAl\"/><sup><a href=#ref-2>[^]</a></sup>D. Alekseeva. _Red and White Wine Quality_ <a href=https://rstudio-pubs-static.s3.amazonaws.com/57835_c4ace81da9dc45438ad0c286bcbb4224.html>https://rstudio-pubs-static.s3.amazonaws.com/57835_c4ace81da9dc45438ad0c286bcbb4224.html</a> __Accessed: 2020-13-10__"
   ]
  }
 ],
 "metadata": {
  "kernelspec": {
   "display_name": "Python 3",
   "language": "python",
   "name": "python3"
  },
  "language_info": {
   "codemirror_mode": {
    "name": "ipython",
    "version": 3
   },
   "file_extension": ".py",
   "mimetype": "text/x-python",
   "name": "python",
   "nbconvert_exporter": "python",
   "pygments_lexer": "ipython3",
   "version": "3.8.5"
  }
 },
 "nbformat": 4,
 "nbformat_minor": 4
}
